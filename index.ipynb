{
 "cells": [
  {
   "cell_type": "markdown",
   "metadata": {},
   "source": [
    "# HERE Location Services REST APIs\n",
    "\n",
    "This is an overview of essential HLS RESTful APIs. This material is (or will be) available on https://github.com/deeplook/herestapis."
   ]
  },
  {
   "cell_type": "markdown",
   "metadata": {},
   "source": [
    "## VHL Background of Maps\n",
    "\n",
    "- Why: Answer questions about the *WHERE* (Location)\n",
    "- What: Points, Lines, Shapes, Relationships, Attributes\n",
    "- How: Some interface changing over time (paper, screens, services...)\n",
    "\n",
    "This is about services providing building blocks for maps. It is not about GIS, or any kind of *geo-spatial analysis*. There are powerful tools for this, though, especially geopandas.\n",
    "\n",
    "\n",
    "## Overview (Notebooks)\n",
    "\n",
    "- [API Interfaces](apiinterfaces.ipynb)\n",
    "- [Geocoding](geocoding.ipynb)\n",
    "- [Places](places.ipynb)\n",
    "- [Tiles](tiles.ipynb)\n",
    "- [Maps](maps.ipynb)\n",
    "- [Images](images.ipynb)\n",
    "- [Routing](routing.ipynb)\n",
    "- [Advanced Isolines](advanced_isolines.ipynb) (update)\n",
    "- [Map Matching](mapmatching.ipynb)\n",
    "- [Public Transit](publictransit.ipynb)\n",
    "- [Traffic](traffic.ipynb)\n",
    "\n",
    "If time permits\n",
    "\n",
    "- [Bonus](bonus.ipynb)\n",
    "- [ISS](iss.ipynb)"
   ]
  },
  {
   "cell_type": "markdown",
   "metadata": {},
   "source": [
    "## Toolbox\n",
    "\n",
    "- github\n",
    "- mybinder\n",
    "- Python 3.6\n",
    "- jupyter\n",
    "- ipywidgets\n",
    "- ipyleaflet\n",
    "- ipyrest\n",
    "- requests\n",
    "- geopy\n",
    "- geojson\n",
    "- (geographiclib)\n",
    "- (shapely)\n",
    "- ((gpxpy))"
   ]
  },
  {
   "cell_type": "markdown",
   "metadata": {},
   "source": [
    "## References\n",
    "\n",
    "- https://developer.here.com/documentation\n",
    "- https://developer.here.com/faqs\n",
    "- https://developer.here.com/develop/rest-apis"
   ]
  }
 ],
 "metadata": {
  "kernelspec": {
   "display_name": "Python 3",
   "language": "python",
   "name": "python3"
  },
  "language_info": {
   "codemirror_mode": {
    "name": "ipython",
    "version": 3
   },
   "file_extension": ".py",
   "mimetype": "text/x-python",
   "name": "python",
   "nbconvert_exporter": "python",
   "pygments_lexer": "ipython3",
   "version": "3.6.3"
  }
 },
 "nbformat": 4,
 "nbformat_minor": 2
}
