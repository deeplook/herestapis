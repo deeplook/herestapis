{
 "cells": [
  {
   "cell_type": "markdown",
   "metadata": {},
   "source": [
    "# Public Transit\n",
    "\n",
    "https://developer.here.com/documentation/transit/topics/what-is.html"
   ]
  },
  {
   "cell_type": "code",
   "execution_count": null,
   "metadata": {},
   "outputs": [],
   "source": [
    "from datetime import datetime\n",
    "from utils import latlon_for_address"
   ]
  },
  {
   "cell_type": "code",
   "execution_count": null,
   "metadata": {},
   "outputs": [],
   "source": [
    "from ipyrest import Api\n",
    "from credentials import APP_ID, APP_CODE"
   ]
  },
  {
   "cell_type": "code",
   "execution_count": null,
   "metadata": {},
   "outputs": [],
   "source": [
    "start = datetime.utcnow().isoformat()\n",
    "start"
   ]
  },
  {
   "cell_type": "markdown",
   "metadata": {},
   "source": [
    "## Find Stations Nearby"
   ]
  },
  {
   "cell_type": "code",
   "execution_count": null,
   "metadata": {
    "scrolled": false
   },
   "outputs": [],
   "source": [
    "url = 'https://transit.api.here.com/v3/stations/by_geocoord.json'\n",
    "params = dict(\n",
    "    app_id=APP_ID, \n",
    "    app_code=APP_CODE,\n",
    "    center='{},{}'.format(*latlon_for_address('Invalidenstr. 116, Berlin, Germany')),\n",
    "    radius='100',\n",
    "    max='3',\n",
    ")\n",
    "Api(url, params=params)"
   ]
  },
  {
   "cell_type": "markdown",
   "metadata": {},
   "source": [
    "## All Next Departures from a Location"
   ]
  },
  {
   "cell_type": "code",
   "execution_count": null,
   "metadata": {},
   "outputs": [],
   "source": [
    "from utils import latlon_for_address\n",
    "\n",
    "url = 'https://transit.api.here.com/v3/multiboard/by_geocoord.json'\n",
    "params = dict(\n",
    "    app_id=APP_ID, \n",
    "    app_code=APP_CODE,\n",
    "    center='{},{}'.format(*latlon_for_address('Invalidenstr. 116, Berlin, Germany')),\n",
    "    time=start,\n",
    "    max='3',\n",
    ")\n",
    "api = Api(url, params=params)\n",
    "api"
   ]
  },
  {
   "cell_type": "code",
   "execution_count": null,
   "metadata": {},
   "outputs": [],
   "source": [
    "for dep in api.resp.json()['Res']['MultiNextDepartures']['MultiNextDeparture']:\n",
    "    print(dep['Stn']['name'])\n",
    "    for next_dep in dep['NextDepartures']['Dep']:\n",
    "        print(' ', next_dep['time'])"
   ]
  },
  {
   "cell_type": "markdown",
   "metadata": {},
   "source": [
    "## Plan a route from A to B using Public Transport"
   ]
  },
  {
   "cell_type": "code",
   "execution_count": null,
   "metadata": {},
   "outputs": [],
   "source": [
    "from ipyrest import Api\n",
    "\n",
    "from credentials import APP_ID, APP_CODE\n",
    "\n",
    "url = 'https://transit.api.here.com/v3/route.json'\n",
    "params = dict(\n",
    "    routing='all',\n",
    "    dep='41.9773,-87.9019',\n",
    "    arr='41.8961,-87.6552',\n",
    "    time=start,\n",
    "    app_id=APP_ID, \n",
    "    app_code=APP_CODE,\n",
    ")\n",
    "Api(url, params=params)"
   ]
  }
 ],
 "metadata": {
  "kernelspec": {
   "display_name": "Python 3",
   "language": "python",
   "name": "python3"
  },
  "language_info": {
   "codemirror_mode": {
    "name": "ipython",
    "version": 3
   },
   "file_extension": ".py",
   "mimetype": "text/x-python",
   "name": "python",
   "nbconvert_exporter": "python",
   "pygments_lexer": "ipython3",
   "version": "3.6.3"
  }
 },
 "nbformat": 4,
 "nbformat_minor": 2
}
