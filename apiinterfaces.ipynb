{
 "cells": [
  {
   "cell_type": "markdown",
   "metadata": {},
   "source": [
    "# API Interfaces\n",
    "\n",
    "One short example, different approaches of using APIs."
   ]
  },
  {
   "cell_type": "markdown",
   "metadata": {},
   "source": [
    "## Curl & Friends"
   ]
  },
  {
   "cell_type": "code",
   "execution_count": null,
   "metadata": {},
   "outputs": [],
   "source": [
    "! curl -s \"https://geocoder.api.here.com/6.2/geocode.json\"\\\n",
    "?searchtext=Invalidenstr.%20116%2C%2010115%20Berlin%2C%20Germany\\\n",
    "\\&app_id=$(python -c 'from credentials import *; print(APP_ID)')\\\n",
    "\\&app_code=$(python -c 'from credentials import *; print(APP_CODE)') # | jq ."
   ]
  },
  {
   "cell_type": "code",
   "execution_count": null,
   "metadata": {},
   "outputs": [],
   "source": [
    "! http \"https://geocoder.api.here.com/6.2/geocode.json\"\\\n",
    "?searchtext=Invalidenstr.%20116%2C%2010115%20Berlin%2C%20Germany\\\n",
    "\\&app_id=$(python -c 'from credentials import *; print(APP_ID)')\\\n",
    "\\&app_code=$(python -c 'from credentials import *; print(APP_CODE)')"
   ]
  },
  {
   "cell_type": "markdown",
   "metadata": {},
   "source": [
    "## Requests"
   ]
  },
  {
   "cell_type": "code",
   "execution_count": null,
   "metadata": {},
   "outputs": [],
   "source": [
    "from urllib.parse import quote\n",
    "import requests\n",
    "from credentials import APP_ID, APP_CODE\n",
    "\n",
    "url = 'https://geocoder.api.here.com/6.2/geocode.json'\n",
    "params = dict(\n",
    "    searchtext=quote('Invalidenstr. 116, 10115 Berlin, Germany'),\n",
    "    app_id=APP_ID,\n",
    "    app_code=APP_CODE\n",
    ")\n",
    "query = '&'.join(f'{k}={v}' for (k, v) in params.items())\n",
    "requests.get(f'{url}?{query}').json()"
   ]
  },
  {
   "cell_type": "markdown",
   "metadata": {},
   "source": [
    "## Geopy\n",
    "\n",
    "https://github.com/geopy/geopy"
   ]
  },
  {
   "cell_type": "code",
   "execution_count": null,
   "metadata": {},
   "outputs": [],
   "source": [
    "from geopy.geocoders import Here\n",
    "from credentials import APP_ID, APP_CODE\n",
    "\n",
    "geocoder = Here(APP_ID, APP_CODE)\n",
    "geocoder.geocode('Invalidenstr. 116, 10115 Berlin, Germany')"
   ]
  },
  {
   "cell_type": "markdown",
   "metadata": {},
   "source": [
    "## Ipyrest\n",
    "\n",
    "https://github.com/deeplook/ipyrest"
   ]
  },
  {
   "cell_type": "code",
   "execution_count": null,
   "metadata": {},
   "outputs": [],
   "source": [
    "from urllib.parse import quote\n",
    "\n",
    "from ipyrest import Api\n",
    "from credentials import APP_ID, APP_CODE\n",
    "\n",
    "url = 'https://geocoder.api.here.com/6.2/geocode.json'\n",
    "params = dict(\n",
    "    searchtext=quote('Invalidenstr. 116, 10115 Berlin, Germany'),\n",
    "    app_id=APP_ID, \n",
    "    app_code=APP_CODE\n",
    ")\n",
    "Api(url, params=params)"
   ]
  },
  {
   "cell_type": "markdown",
   "metadata": {},
   "source": [
    "## Other\n",
    "\n",
    "- [Postman](https://getpostman.com)\n",
    "- [Insomnia](https://insomnia.rest) (!)"
   ]
  }
 ],
 "metadata": {
  "kernelspec": {
   "display_name": "Python 3",
   "language": "python",
   "name": "python3"
  },
  "language_info": {
   "codemirror_mode": {
    "name": "ipython",
    "version": 3
   },
   "file_extension": ".py",
   "mimetype": "text/x-python",
   "name": "python",
   "nbconvert_exporter": "python",
   "pygments_lexer": "ipython3",
   "version": "3.6.3"
  }
 },
 "nbformat": 4,
 "nbformat_minor": 2
}
