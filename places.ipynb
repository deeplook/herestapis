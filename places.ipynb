{
 "cells": [
  {
   "cell_type": "markdown",
   "metadata": {},
   "source": [
    "# Places\n",
    "\n",
    "- https://developer.here.com/documentation/places/topics/what-is.html"
   ]
  },
  {
   "cell_type": "code",
   "execution_count": null,
   "metadata": {},
   "outputs": [],
   "source": [
    "import requests\n",
    "from credentials import APP_ID, APP_CODE\n",
    "\n",
    "lat, lon = 52.5, 13.4\n",
    "app_id = APP_ID\n",
    "app_code = APP_CODE\n",
    "url = (f'https://places.api.here.com/places/v1/discover/search'\n",
    "       f'?q=Cafe&at={lat},{lon}&app_id={app_id}&app_code={app_code}')\n",
    "obj = requests.get(url).json()\n",
    "obj"
   ]
  },
  {
   "cell_type": "code",
   "execution_count": null,
   "metadata": {},
   "outputs": [],
   "source": [
    "for p in [res for res in obj['results']['items']]:\n",
    "    print('{!r:23} {:4d} m  {}'.format(p['position'], p['distance'], p['title']))"
   ]
  },
  {
   "cell_type": "code",
   "execution_count": null,
   "metadata": {},
   "outputs": [],
   "source": [
    "# from urllib.parse import parse_qs\n",
    "\n",
    "import requests\n",
    "from ipyleaflet import Map, GeoJSON, CircleMarker, Marker\n",
    "from ipyrest.responseviews import ResponseView, zoom_for_bbox\n",
    "\n",
    "from utils import bbox_for_points\n",
    "\n",
    "class PlacesView(ResponseView):\n",
    "    \"\"\"\n",
    "    A view that renders HERE places on an ipyleaflet.Map.\n",
    "    \"\"\"\n",
    "    name = 'Places'\n",
    "    mimetype_pats = mimetype_pats = ['application/json', 'application/vnd\\..*\\+json']\n",
    "\n",
    "    def render(self, resp: requests.models.Response) -> Map:\n",
    "        \"Return an ipyleaflet map with the GeoJSON object rendered on it, or None.\"\n",
    "\n",
    "        obj = resp.json()\n",
    "        # lat, lon = list(map(float, parse_qs(resp.request.url)['at'][0].split(',')))\n",
    "        lat, lon = resp.json()['search']['context']['location']['position']\n",
    "        bbox = bbox_for_points([p['position'] for p in obj['results']['items']])    \n",
    "        mins, maxs = bbox\n",
    "        z = zoom_for_bbox(*(mins + maxs))\n",
    "        m = Map(center=(lat, lon), zoom=z)\n",
    "        m += CircleMarker(location=[lat, lon], color='red')\n",
    "        for p in [res for res in obj['results']['items']]:\n",
    "            m += Marker(location=p['position'],\n",
    "                        title='{} ({} m)'.format(p['title'], p['distance']))\n",
    "        m.add_layer(layer=GeoJSON(data=obj))\n",
    "        self.data = m\n",
    "        return m"
   ]
  },
  {
   "cell_type": "code",
   "execution_count": null,
   "metadata": {},
   "outputs": [],
   "source": [
    "import json\n",
    "from urllib.parse import quote\n",
    "\n",
    "from ipyrest import Api\n",
    "from credentials import APP_ID, APP_CODE\n",
    "\n",
    "url = 'https://places.api.here.com/places/v1/discover/search'\n",
    "lat, lon = 52.5, 13.4\n",
    "params = dict(\n",
    "    q=quote('ATM'),\n",
    "    at=f'{lat},{lon}',\n",
    "    app_id=APP_ID,\n",
    "    app_code=APP_CODE\n",
    ")\n",
    "api = Api(url, params=params, additional_views=[PlacesView])\n",
    "api"
   ]
  },
  {
   "cell_type": "code",
   "execution_count": null,
   "metadata": {},
   "outputs": [],
   "source": [
    "api.url"
   ]
  },
  {
   "cell_type": "code",
   "execution_count": null,
   "metadata": {},
   "outputs": [],
   "source": [
    "obj = api.resp.json()\n",
    "obj.keys()"
   ]
  },
  {
   "cell_type": "code",
   "execution_count": null,
   "metadata": {
    "scrolled": true
   },
   "outputs": [],
   "source": [
    "obj = json.loads(api.resp_pane.get_child_named('Content').get_child_named('JSON').value)\n",
    "obj.keys()"
   ]
  },
  {
   "cell_type": "code",
   "execution_count": null,
   "metadata": {
    "scrolled": true
   },
   "outputs": [],
   "source": [
    "from ipyleaflet import Map, Marker, CircleMarker\n",
    "lat, lon = 52.5, 13.4\n",
    "m = Map(center=[lat, lon], zoom=14)\n",
    "m += CircleMarker(location=[lat, lon], color='red')\n",
    "for p in [res for res in obj['results']['items']]:\n",
    "    m += Marker(location=p['position'],\n",
    "                title='{} ({} m)'.format(p['title'], p['distance']))\n",
    "m"
   ]
  },
  {
   "cell_type": "markdown",
   "metadata": {},
   "source": [
    "## Place Categories"
   ]
  },
  {
   "cell_type": "code",
   "execution_count": null,
   "metadata": {},
   "outputs": [],
   "source": [
    "import json\n",
    "from urllib.parse import quote\n",
    "\n",
    "from ipyrest import Api\n",
    "from credentials import APP_ID, APP_CODE\n",
    "\n",
    "url = 'https://places.cit.api.here.com/places/v1/categories/places'\n",
    "lat, lon = 52.5, 13.4\n",
    "params = dict(\n",
    "    at=f'{lat},{lon}',\n",
    "    app_id=APP_ID,\n",
    "    app_code=APP_CODE\n",
    ")\n",
    "api = Api(url, params=params)\n",
    "api"
   ]
  },
  {
   "cell_type": "code",
   "execution_count": null,
   "metadata": {},
   "outputs": [],
   "source": [
    "obj = api.resp.json()\n",
    "for id in sorted(res['id'] for res in obj['items']):\n",
    "    print(id)"
   ]
  },
  {
   "cell_type": "markdown",
   "metadata": {},
   "source": [
    "## Explore by Category"
   ]
  },
  {
   "cell_type": "code",
   "execution_count": null,
   "metadata": {},
   "outputs": [],
   "source": [
    "import json\n",
    "from urllib.parse import quote\n",
    "\n",
    "from ipyrest import Api\n",
    "from credentials import APP_ID, APP_CODE\n",
    "\n",
    "url = 'https://places.demo.api.here.com/places/v1/discover/explore'\n",
    "lat, lon = 52.5, 13.4\n",
    "params = dict(\n",
    "    at=f'{lat},{lon}',\n",
    "    cat='cinema',\n",
    "    app_id=APP_ID,\n",
    "    app_code=APP_CODE\n",
    ")\n",
    "api = Api(url, params=params, additional_views=[PlacesView])\n",
    "api"
   ]
  },
  {
   "cell_type": "code",
   "execution_count": null,
   "metadata": {},
   "outputs": [],
   "source": [
    "obj = api.resp.json()\n",
    "for p in [res for res in obj['results']['items']]:\n",
    "    name_dist = '{} ({} m)'.format(p['title'], p['distance'])\n",
    "    print(name_dist)"
   ]
  }
 ],
 "metadata": {
  "kernelspec": {
   "display_name": "Python 3",
   "language": "python",
   "name": "python3"
  },
  "language_info": {
   "codemirror_mode": {
    "name": "ipython",
    "version": 3
   },
   "file_extension": ".py",
   "mimetype": "text/x-python",
   "name": "python",
   "nbconvert_exporter": "python",
   "pygments_lexer": "ipython3",
   "version": "3.6.3"
  }
 },
 "nbformat": 4,
 "nbformat_minor": 2
}
