{
 "cells": [
  {
   "cell_type": "markdown",
   "metadata": {},
   "source": [
    "# Geocoding\n",
    "\n",
    "https://developer.here.com/documentation/geocoder/topics/what-is.html"
   ]
  },
  {
   "cell_type": "markdown",
   "metadata": {},
   "source": [
    "## Geocode using free-form input\n",
    "\n",
    "https://developer.here.com/api-explorer/rest/geocoder/latitude-longitude-by-free-form-address"
   ]
  },
  {
   "cell_type": "markdown",
   "metadata": {},
   "source": [
    "### Requests"
   ]
  },
  {
   "cell_type": "code",
   "execution_count": null,
   "metadata": {},
   "outputs": [],
   "source": [
    "from urllib.parse import quote\n",
    "import requests\n",
    "\n",
    "from credentials import APP_ID, APP_CODE\n",
    "\n",
    "url = 'https://geocoder.api.here.com/6.2/geocode.json'\n",
    "params = dict(\n",
    "    searchtext=quote('Invalidenstr. 116, 10115 Berlin, Germany'),\n",
    "    app_id=APP_ID, \n",
    "    app_code=APP_CODE\n",
    ")\n",
    "query = '&'.join(f'{k}={v}' for (k, v) in params.items())\n",
    "requests.get(f'{url}?{query}').json()"
   ]
  },
  {
   "cell_type": "markdown",
   "metadata": {},
   "source": [
    "### Geopy"
   ]
  },
  {
   "cell_type": "code",
   "execution_count": null,
   "metadata": {},
   "outputs": [],
   "source": [
    "from geopy.geocoders import Here\n",
    "from credentials import APP_ID, APP_CODE\n",
    "\n",
    "geocoder = Here(APP_ID, APP_CODE)\n",
    "res = geocoder.geocode('Invalidenstr. 116, 10115 Berlin, Germany')"
   ]
  },
  {
   "cell_type": "code",
   "execution_count": null,
   "metadata": {},
   "outputs": [],
   "source": [
    "res"
   ]
  },
  {
   "cell_type": "code",
   "execution_count": null,
   "metadata": {},
   "outputs": [],
   "source": [
    "res.address"
   ]
  },
  {
   "cell_type": "code",
   "execution_count": null,
   "metadata": {},
   "outputs": [],
   "source": [
    "res.raw"
   ]
  },
  {
   "cell_type": "markdown",
   "metadata": {},
   "source": [
    "### Ipyrest"
   ]
  },
  {
   "cell_type": "code",
   "execution_count": null,
   "metadata": {},
   "outputs": [],
   "source": [
    "from urllib.parse import quote\n",
    "\n",
    "from ipyrest import Api\n",
    "from credentials import APP_ID, APP_CODE\n",
    "\n",
    "url = 'https://geocoder.api.here.com/6.2/geocode.json'\n",
    "params = dict(\n",
    "    searchtext=quote('Invalidenstr. 116, 10115 Berlin, Germany'),\n",
    "    app_id=APP_ID, \n",
    "    app_code=APP_CODE\n",
    ")\n",
    "Api(url, params=params)"
   ]
  },
  {
   "cell_type": "markdown",
   "metadata": {},
   "source": [
    "## Geocode an address within a bounding box\n",
    "\n",
    "https://developer.here.com/api-explorer/rest/geocoder/latitude-longitude-by-mapview-parameter"
   ]
  },
  {
   "cell_type": "code",
   "execution_count": null,
   "metadata": {
    "scrolled": true
   },
   "outputs": [],
   "source": [
    "url = 'https://geocoder.api.here.com/6.2/geocode.json'\n",
    "params = dict(\n",
    "    searchtext=quote('1 main'),\n",
    "    mapview='42.3902,-71.1293;42.3312,-71.0228',\n",
    "    gen='9',\n",
    "    app_id=APP_ID, \n",
    "    app_code=APP_CODE\n",
    ")\n",
    "Api(url, params=params, click_send=True)"
   ]
  },
  {
   "cell_type": "markdown",
   "metadata": {},
   "source": [
    "## Geocode using partial address information\n",
    "\n",
    "https://developer.here.com/api-explorer/rest/geocoder/latitude-longitude-by-partial-address"
   ]
  },
  {
   "cell_type": "code",
   "execution_count": null,
   "metadata": {},
   "outputs": [],
   "source": [
    "url = 'https://geocoder.api.here.com/6.2/geocode.json'\n",
    "params = dict(\n",
    "    housenumber='427',\n",
    "    street='randolph',\n",
    "    city='chicago',\n",
    "    country='usa',\n",
    "    gen='9',\n",
    "    app_id=APP_ID, \n",
    "    app_code=APP_CODE\n",
    ")\n",
    "api = Api(url, params=params, click_send=True)\n",
    "api"
   ]
  },
  {
   "cell_type": "code",
   "execution_count": null,
   "metadata": {},
   "outputs": [],
   "source": [
    "api.resp.json()['Response']['View'][0]['Result'][0]['Location']"
   ]
  },
  {
   "cell_type": "markdown",
   "metadata": {},
   "source": [
    "## Geocode a street intersection\n",
    "\n",
    "https://developer.here.com/api-explorer/rest/geocoder/latitude-longitude-intersection"
   ]
  },
  {
   "cell_type": "code",
   "execution_count": null,
   "metadata": {},
   "outputs": [],
   "source": [
    "url = 'https://geocoder.api.here.com/6.2/geocode.json'\n",
    "params = dict(\n",
    "    street='invaliden @ chaussee',\n",
    "    city='berlin',\n",
    "    country='germany',\n",
    "    gen='9',\n",
    "    app_id=APP_ID, \n",
    "    app_code=APP_CODE\n",
    ")\n",
    "api = Api(url, params=params, click_send=True)\n",
    "api"
   ]
  },
  {
   "cell_type": "code",
   "execution_count": null,
   "metadata": {},
   "outputs": [],
   "source": [
    "api.resp.json()['Response']['View'][0]['Result'][0]['Location']"
   ]
  },
  {
   "cell_type": "markdown",
   "metadata": {},
   "source": [
    "## Reverse geocode an address from a location\n",
    "\n",
    "https://developer.here.com/api-explorer/rest/geocoder/reverse-geocode"
   ]
  },
  {
   "cell_type": "code",
   "execution_count": null,
   "metadata": {},
   "outputs": [],
   "source": [
    "url = 'https://reverse.geocoder.api.here.com/6.2/reversegeocode.json'\n",
    "params = dict(\n",
    "    prox='41.8842,-87.6388,250',\n",
    "    mode='retrieveAddresses',\n",
    "    maxresults='1',\n",
    "    gen='9',\n",
    "    app_id=APP_ID, \n",
    "    app_code=APP_CODE\n",
    ")\n",
    "api = Api(url, params=params, click_send=True)\n",
    "api"
   ]
  },
  {
   "cell_type": "code",
   "execution_count": null,
   "metadata": {},
   "outputs": [],
   "source": [
    "api.resp.json()['Response']['View'][0]['Result'][0]['Location']"
   ]
  },
  {
   "cell_type": "markdown",
   "metadata": {},
   "source": [
    "## Reverse geocode the shape of a postal code\n",
    "\n",
    "https://developer.here.com/api-explorer/rest/geocoder/reverse-geocode-postal-shape"
   ]
  },
  {
   "cell_type": "code",
   "execution_count": null,
   "metadata": {},
   "outputs": [],
   "source": [
    "url = 'https://reverse.geocoder.api.here.com/6.2/reversegeocode.json'\n",
    "params = dict(\n",
    "    prox='41.8842,-87.6388,250',\n",
    "    # prox='52.5,13.4,250',\n",
    "    mode='retrieveAddresses',\n",
    "    maxresults='1',\n",
    "    additionaldata='IncludeShapeLevel,postalCode',\n",
    "    gen='9',\n",
    "    app_id=APP_ID, \n",
    "    app_code=APP_CODE\n",
    ")\n",
    "api = Api(url, params=params, click_send=True)\n",
    "api"
   ]
  },
  {
   "cell_type": "code",
   "execution_count": null,
   "metadata": {},
   "outputs": [],
   "source": [
    "wkt_shape = api.resp.json()['Response']['View'][0]['Result'][0]['Location']['Shape']['Value']\n",
    "wkt_shape"
   ]
  },
  {
   "cell_type": "code",
   "execution_count": null,
   "metadata": {},
   "outputs": [],
   "source": [
    "import shapely.wkt\n",
    "shapely.wkt.loads(wkt_shape)"
   ]
  },
  {
   "cell_type": "markdown",
   "metadata": {},
   "source": [
    "Real maps coming, soon!"
   ]
  }
 ],
 "metadata": {
  "kernelspec": {
   "display_name": "Python 3",
   "language": "python",
   "name": "python3"
  },
  "language_info": {
   "codemirror_mode": {
    "name": "ipython",
    "version": 3
   },
   "file_extension": ".py",
   "mimetype": "text/x-python",
   "name": "python",
   "nbconvert_exporter": "python",
   "pygments_lexer": "ipython3",
   "version": "3.6.3"
  }
 },
 "nbformat": 4,
 "nbformat_minor": 2
}
