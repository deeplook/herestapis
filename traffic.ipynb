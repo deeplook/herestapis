{
 "cells": [
  {
   "cell_type": "markdown",
   "metadata": {},
   "source": [
    "# Traffic\n",
    "\n",
    "https://developer.here.com/documentation/traffic/topics/what-is.html"
   ]
  },
  {
   "cell_type": "code",
   "execution_count": null,
   "metadata": {},
   "outputs": [],
   "source": [
    "from datetime import datetime\n",
    "\n",
    "from ipyrest import Api\n",
    "from utils import latlon_for_address\n",
    "from credentials import APP_ID, APP_CODE"
   ]
  },
  {
   "cell_type": "code",
   "execution_count": null,
   "metadata": {},
   "outputs": [],
   "source": [
    "start = datetime.utcnow().isoformat()\n",
    "start"
   ]
  },
  {
   "cell_type": "markdown",
   "metadata": {},
   "source": [
    "## Traffic Incidents within a Bounding Box or via Proximity"
   ]
  },
  {
   "cell_type": "code",
   "execution_count": null,
   "metadata": {
    "scrolled": false
   },
   "outputs": [],
   "source": [
    "url = 'https://traffic.api.here.com/traffic/6.0/incidents.json'\n",
    "lat, lon = 52.5311, 13.3644\n",
    "params = dict(\n",
    "    # bbox='52.5311,13.3644;52.5114,13.4035',\n",
    "    prox=f'{lat},{lon},1000',\n",
    "    criticality='minor',\n",
    "    app_id=APP_ID, \n",
    "    app_code=APP_CODE,\n",
    ")\n",
    "api = Api(url, params=params)\n",
    "api"
   ]
  },
  {
   "cell_type": "code",
   "execution_count": null,
   "metadata": {},
   "outputs": [],
   "source": [
    "from ipywidgets import HTML\n",
    "from ipyleaflet import Map, Polyline, Popup\n",
    "m = Map(center=(lat, lon), zoom=13)\n",
    "m"
   ]
  },
  {
   "cell_type": "code",
   "execution_count": null,
   "metadata": {},
   "outputs": [],
   "source": [
    "obj = api.resp.json()"
   ]
  },
  {
   "cell_type": "code",
   "execution_count": null,
   "metadata": {},
   "outputs": [],
   "source": [
    "obj['TRAFFICITEMS']['TRAFFICITEM'][0]['LOCATION']['GEOLOC']"
   ]
  },
  {
   "cell_type": "code",
   "execution_count": null,
   "metadata": {},
   "outputs": [],
   "source": [
    "for item in obj['TRAFFICITEMS']['TRAFFICITEM']:\n",
    "    geoloc = item['LOCATION']['GEOLOC']\n",
    "    typ = item['TRAFFICITEMTYPEDESC']\n",
    "    desc = item['RDSTMCLOCATIONS']['RDSTMC'][0]['ALERTC']['DESCRIPTION']\n",
    "\n",
    "    origin = geoloc['ORIGIN']\n",
    "    o_latlon = origin['LATITUDE'], origin['LONGITUDE']\n",
    "    to = geoloc['TO'][0]\n",
    "    t_latlon = to['LATITUDE'], to['LONGITUDE']\n",
    "    \n",
    "    m += Popup(location=o_latlon, child=HTML(value=f'{typ}: {desc}'))\n",
    "    m += Polyline(locations=[o_latlon, t_latlon], color='red', fill=False)\n",
    "    print(o_latlon, t_latlon, f'{typ}: {desc}')"
   ]
  }
 ],
 "metadata": {
  "kernelspec": {
   "display_name": "Python 3",
   "language": "python",
   "name": "python3"
  },
  "language_info": {
   "codemirror_mode": {
    "name": "ipython",
    "version": 3
   },
   "file_extension": ".py",
   "mimetype": "text/x-python",
   "name": "python",
   "nbconvert_exporter": "python",
   "pygments_lexer": "ipython3",
   "version": "3.6.3"
  }
 },
 "nbformat": 4,
 "nbformat_minor": 2
}
