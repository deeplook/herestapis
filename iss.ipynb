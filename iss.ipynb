{
 "cells": [
  {
   "cell_type": "markdown",
   "metadata": {},
   "source": [
    "# ISS"
   ]
  },
  {
   "cell_type": "code",
   "execution_count": null,
   "metadata": {},
   "outputs": [],
   "source": [
    "from ipyrest import Api\n",
    "\n",
    "url = 'https://api.wheretheiss.at/v1/satellites/25544'\n",
    "Api(url)"
   ]
  },
  {
   "cell_type": "code",
   "execution_count": null,
   "metadata": {},
   "outputs": [],
   "source": [
    "import json\n",
    "\n",
    "import requests\n",
    "from ipywidgets import Textarea, Layout\n",
    "from ipyrest import Api\n",
    "from ipyrest.responseviews import ResponseView\n",
    "\n",
    "class IssAddressView(ResponseView):\n",
    "    name = 'ISSAddress'\n",
    "    mimetype_pats = ['application/json']\n",
    "    def render(self, resp):\n",
    "        j_iss = resp.json()\n",
    "        lat, lon = j_iss['latitude'], j_iss['longitude']\n",
    "        url = 'https://nominatim.openstreetmap.org/reverse'\\\n",
    "              f'?format=json&lat={lat}&lon={lon}&addressdetails=1'\n",
    "        j_osm = requests.get(url).json()\n",
    "        j_iss['addr'] = \"Error: 'Unable to geocode'\" \\\n",
    "            if j_osm == {'error': 'Unable to geocode'} \\\n",
    "            else j_osm['display_name']\n",
    "        layout = Layout(width='100%', height='100%')\n",
    "        return Textarea(value=json.dumps(j_iss, indent=4), layout=layout)\n",
    "\n",
    "url = 'https://api.wheretheiss.at/v1/satellites/25544'\n",
    "Api(url, additional_views=[IssAddressView])"
   ]
  },
  {
   "cell_type": "code",
   "execution_count": null,
   "metadata": {},
   "outputs": [],
   "source": [
    "# from http://www.ustream.tv/channel/iss-hdev-payload\n",
    "from IPython.display import IFrame\n",
    "IFrame(src=\"http://www.ustream.tv/embed/17074538?html5ui\", width=\"100%\", height=\"600\")"
   ]
  },
  {
   "cell_type": "code",
   "execution_count": null,
   "metadata": {},
   "outputs": [],
   "source": [
    "from ipyleaflet import Map, Marker\n",
    "\n",
    "class IssMapView(ResponseView):\n",
    "    name = 'ISSMap'\n",
    "    mimetype_pats = ['application/json']\n",
    "    def __init__(self, *args, **kwargs):\n",
    "        super().__init__(*args, **kwargs)\n",
    "        self.m = Map()\n",
    "        return\n",
    "    \n",
    "        # nicer with: http://polymaps.org/ex/blue-marble.html\n",
    "        url = \"http://s3.amazonaws.com/com.modestmaps.bluemarble/{z}-r{y}-c{x}.jpg\"\n",
    "        attr = '<a href=\"https://earthobservatory.nasa.gov/\">NASA Earth Observatory</a>'\n",
    "        bm = dict(url=url, attribution=attr)\n",
    "        self.m = Map(zoom=6, basemap=bm)\n",
    "\n",
    "    def render(self, resp):\n",
    "        j_iss = resp.json()\n",
    "        lat, lon = j_iss['latitude'], j_iss['longitude']\n",
    "        self.m.center=(lat, lon)\n",
    "        self.m += Marker(location=(lat, lon))\n",
    "        return self.m\n",
    "\n",
    "url = 'https://api.wheretheiss.at/v1/satellites/25544'\n",
    "Api(url, additional_views=[IssAddressView, IssMapView])"
   ]
  },
  {
   "cell_type": "code",
   "execution_count": null,
   "metadata": {},
   "outputs": [],
   "source": []
  }
 ],
 "metadata": {
  "kernelspec": {
   "display_name": "Python 3",
   "language": "python",
   "name": "python3"
  },
  "language_info": {
   "codemirror_mode": {
    "name": "ipython",
    "version": 3
   },
   "file_extension": ".py",
   "mimetype": "text/x-python",
   "name": "python",
   "nbconvert_exporter": "python",
   "pygments_lexer": "ipython3",
   "version": "3.6.3"
  }
 },
 "nbformat": 4,
 "nbformat_minor": 2
}
