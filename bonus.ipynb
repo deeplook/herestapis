{
 "cells": [
  {
   "cell_type": "markdown",
   "metadata": {},
   "source": [
    "# Bonus Material\n",
    "\n",
    "For wetting your appetite, as time permits..."
   ]
  },
  {
   "cell_type": "markdown",
   "metadata": {},
   "source": [
    "## CesiumJS / Cesiumpy\n",
    "\n",
    "- https://cesiumjs.org\n",
    "- https://github.com/sinhrks/cesiumpy\n",
    "- https://github.com/sinhrks/cesiumpy/blob/master/doc/source/examples.rst"
   ]
  },
  {
   "cell_type": "code",
   "execution_count": null,
   "metadata": {},
   "outputs": [],
   "source": [
    "# ! pip install cesiumpy"
   ]
  },
  {
   "cell_type": "code",
   "execution_count": null,
   "metadata": {},
   "outputs": [],
   "source": [
    "import cesiumpy\n",
    "\n",
    "v = cesiumpy.Viewer()\n",
    "b = cesiumpy.Box(dimensions=(40e4, 30e4, 50e4), \n",
    "                 material=cesiumpy.color.RED,\n",
    "                 position=[-120, 40, 0])\n",
    "v.entities.add(b)"
   ]
  },
  {
   "cell_type": "code",
   "execution_count": null,
   "metadata": {},
   "outputs": [],
   "source": [
    "v"
   ]
  },
  {
   "cell_type": "markdown",
   "metadata": {},
   "source": [
    "## Ipyearth\n",
    "\n",
    "- https://earth.nullschool.net\n",
    "- https://github.com/davidbrochart/ipyearth"
   ]
  },
  {
   "cell_type": "code",
   "execution_count": null,
   "metadata": {},
   "outputs": [],
   "source": [
    "from ipyearth import Earth\n",
    "\n",
    "w = Earth()\n",
    "w.projection = 'orthographic'\n",
    "w"
   ]
  },
  {
   "cell_type": "code",
   "execution_count": null,
   "metadata": {},
   "outputs": [],
   "source": [
    "w.show_topology(file_name='data/earth-topo.json', object_name='topo')"
   ]
  },
  {
   "cell_type": "code",
   "execution_count": null,
   "metadata": {},
   "outputs": [],
   "source": [
    "import requests\n",
    "from os.path import join, basename, exists \n",
    "\n",
    "url = 'https://github.com/davidbrochart/ipyearth/raw/master/examples/data/current-wind-surface-level-gfs-1.0.npz'\n",
    "path = join('data', basename(url))\n",
    "if not exists(path):\n",
    "    data = requests.get(url).content\n",
    "    open(path, 'wb').write(data)"
   ]
  },
  {
   "cell_type": "code",
   "execution_count": null,
   "metadata": {},
   "outputs": [],
   "source": [
    "import numpy as np\n",
    "import matplotlib.pyplot as plt\n",
    "\n",
    "data = np.load(path)\n",
    "u = data['u']\n",
    "v = data['v']\n",
    "\n",
    "fig, ax = plt.subplots(1, 2, figsize=(15, 5))\n",
    "ax[0].imshow(u)\n",
    "ax[1].imshow(v)\n",
    "ax[0].set_title('u')\n",
    "ax[1].set_title('v')\n",
    "# plt.show()"
   ]
  },
  {
   "cell_type": "code",
   "execution_count": null,
   "metadata": {},
   "outputs": [],
   "source": [
    "w.particleVelocityScale = 1 / 60000\n",
    "w.particleMaxIntensity = 17\n",
    "animate = {'dx': 1, 'dy': 1, 'nx': 360, 'ny': 181, 'ullat': 90, 'ullon': 0, 'u': u, 'v': v}"
   ]
  },
  {
   "cell_type": "code",
   "execution_count": null,
   "metadata": {},
   "outputs": [],
   "source": [
    "# Overlay the module of the vector field\n",
    "w.color_map = '0'\n",
    "w.color_vmin = 0\n",
    "w.color_vmax = 100\n",
    "w.show(animate=animate, overlay='fromAnim')"
   ]
  },
  {
   "cell_type": "markdown",
   "metadata": {},
   "source": [
    "## XYZ\n",
    "\n",
    "- https://explore.xyz.here.com\n",
    "- https://developer.here.com/blog/managing-and-visualizing-geospatial-data-here-xyz-now-in-beta\n",
    "- https://hi.stamen.com/here-xyz-bdd29e3d4a16\n",
    "- https://stamen.github.io/here-xyz-tutorials/urban-air/"
   ]
  },
  {
   "cell_type": "code",
   "execution_count": null,
   "metadata": {
    "scrolled": false
   },
   "outputs": [],
   "source": [
    "from IPython.display import IFrame\n",
    "url = 'https://xyz.here.com/viewer/?project_id=85965842-b96f-4b77-be6a-fd105f53c944'\n",
    "IFrame(url, width='100%', height='600')"
   ]
  }
 ],
 "metadata": {
  "kernelspec": {
   "display_name": "Python 3",
   "language": "python",
   "name": "python3"
  },
  "language_info": {
   "codemirror_mode": {
    "name": "ipython",
    "version": 3
   },
   "file_extension": ".py",
   "mimetype": "text/x-python",
   "name": "python",
   "nbconvert_exporter": "python",
   "pygments_lexer": "ipython3",
   "version": "3.6.3"
  }
 },
 "nbformat": 4,
 "nbformat_minor": 2
}
