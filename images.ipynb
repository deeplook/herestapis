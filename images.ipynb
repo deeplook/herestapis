{
 "cells": [
  {
   "cell_type": "markdown",
   "metadata": {},
   "source": [
    "# Images\n",
    "\n",
    "https://developer.here.com/documentation/map-image/topics/what-is.html"
   ]
  },
  {
   "cell_type": "markdown",
   "metadata": {},
   "source": [
    "## Mapview"
   ]
  },
  {
   "cell_type": "code",
   "execution_count": null,
   "metadata": {},
   "outputs": [],
   "source": [
    "from ipyrest import Api\n",
    "from credentials import APP_ID, APP_CODE\n",
    "\n",
    "url = 'https://image.maps.api.here.com/mia/1.6/mapview'\n",
    "params = dict(\n",
    "    f='0', # PNG\n",
    "    app_id=APP_ID, \n",
    "    app_code=APP_CODE\n",
    ")\n",
    "Api(url, params=params)"
   ]
  },
  {
   "cell_type": "code",
   "execution_count": null,
   "metadata": {
    "scrolled": true
   },
   "outputs": [],
   "source": [
    "from urllib.parse import quote\n",
    "\n",
    "from ipyrest import Api\n",
    "\n",
    "url = 'https://image.maps.api.here.com/mia/1.6/mapview'\n",
    "params = dict(\n",
    "    ml='ita',\n",
    "    z='14',\n",
    "    w='800', h='400',\n",
    "    f='0',\n",
    "    sb='km',\n",
    "    pip='-4',\n",
    "    u='100',\n",
    "    c='52.5159,13.3777',\n",
    "    # i='1', s='invalidenstr.', n='116', ci='berlin', co='germany',\n",
    "    app_id=APP_ID, \n",
    "    app_code=APP_CODE,\n",
    ")\n",
    "api = Api(url, params=params, click_send=True)\n",
    "api"
   ]
  },
  {
   "cell_type": "code",
   "execution_count": null,
   "metadata": {},
   "outputs": [],
   "source": [
    "img = api.resp_pane.get_child_named('Content').get_child_named('Image').value"
   ]
  },
  {
   "cell_type": "code",
   "execution_count": null,
   "metadata": {},
   "outputs": [],
   "source": [
    "type(img)"
   ]
  },
  {
   "cell_type": "code",
   "execution_count": null,
   "metadata": {},
   "outputs": [],
   "source": [
    "img[:100]"
   ]
  },
  {
   "cell_type": "code",
   "execution_count": null,
   "metadata": {},
   "outputs": [],
   "source": [
    "from IPython.core.display import Image\n",
    "Image(img)"
   ]
  },
  {
   "cell_type": "code",
   "execution_count": null,
   "metadata": {},
   "outputs": [],
   "source": [
    "open('mymap.png', 'wb').write(img)"
   ]
  },
  {
   "cell_type": "code",
   "execution_count": null,
   "metadata": {},
   "outputs": [],
   "source": [
    "from io import BytesIO\n",
    "from PIL import Image as PilImage"
   ]
  },
  {
   "cell_type": "code",
   "execution_count": null,
   "metadata": {},
   "outputs": [],
   "source": [
    "im = PilImage.open(BytesIO(img))\n",
    "im.save(open('mymap2.png', 'wb'))"
   ]
  },
  {
   "cell_type": "markdown",
   "metadata": {},
   "source": [
    "## Roadsign"
   ]
  },
  {
   "cell_type": "code",
   "execution_count": null,
   "metadata": {},
   "outputs": [],
   "source": [
    "from ipyrest import Api\n",
    "\n",
    "url = 'https://image.maps.api.here.com/mia/1.6/roadsign'\n",
    "params = dict(\n",
    "    region='USA',\n",
    "    category='0',\n",
    "    label='I-80',\n",
    "    w='100',\n",
    "    h='100',\n",
    "    f='0',\n",
    "    app_id=APP_ID, \n",
    "    app_code=APP_CODE,\n",
    ")\n",
    "api = Api(url, params=params, click_send=True)\n",
    "api"
   ]
  },
  {
   "cell_type": "markdown",
   "metadata": {},
   "source": [
    "## Companylogo"
   ]
  },
  {
   "cell_type": "code",
   "execution_count": null,
   "metadata": {},
   "outputs": [],
   "source": [
    "from urllib.parse import quote\n",
    "\n",
    "from ipyrest import Api\n",
    "\n",
    "url = 'https://image.maps.api.here.com/mia/1.6/companylogo'\n",
    "params = dict(\n",
    "    logoid='055776fd979be9ed684bba33dc81c0e1',\n",
    "    w='100',\n",
    "    h='100',\n",
    "    f='5',\n",
    "    app_id=APP_ID, \n",
    "    app_code=APP_CODE,\n",
    ")\n",
    "api = Api(url, params=params, click_send=True)\n",
    "api"
   ]
  },
  {
   "cell_type": "markdown",
   "metadata": {},
   "source": [
    "## Region"
   ]
  },
  {
   "cell_type": "code",
   "execution_count": null,
   "metadata": {},
   "outputs": [],
   "source": [
    "from ipyrest import Api\n",
    "\n",
    "url = 'https://image.maps.api.here.com/mia/1.6/region'\n",
    "params = dict(\n",
    "    w='600',\n",
    "    h='300',\n",
    "    f='0',\n",
    "    a0='44.995883,-111.005859,45.011419,-104.0625,41.004775,-104.051514,41.046217,-111.049805',\n",
    "    a1='41.983994,-114.016113,42.000325,-111.049805,41.046217,-111.071777,40.996484,-109.072266,37.002553,-109.050293,37.03764,-114.060059',\n",
    "    fc1='80FF0000',\n",
    "    a2='40.996484,-109.072266,41.013066,-102.041016,37.020098,-102.041016,37.002553,-109.050293',\n",
    "    fc2='80FFFF00',\n",
    "    tx0='44.103365,-107.486289;Wyoming;FFFF0000;FFFFFFFF;15',\n",
    "    tx1='38.393339,-111.796875;Utah;FF0000FF;FFFFFFFF;15',\n",
    "    tx2='37.978845,-105.46875;Colorado;FFFFFF00;FF000000;15',\n",
    "    app_id=APP_ID, \n",
    "    app_code=APP_CODE,\n",
    ")\n",
    "api = Api(url, params=params, click_send=True)\n",
    "api"
   ]
  },
  {
   "cell_type": "markdown",
   "metadata": {},
   "source": [
    "And, of course, routes, routing, etc."
   ]
  }
 ],
 "metadata": {
  "kernelspec": {
   "display_name": "Python 3",
   "language": "python",
   "name": "python3"
  },
  "language_info": {
   "codemirror_mode": {
    "name": "ipython",
    "version": 3
   },
   "file_extension": ".py",
   "mimetype": "text/x-python",
   "name": "python",
   "nbconvert_exporter": "python",
   "pygments_lexer": "ipython3",
   "version": "3.6.3"
  }
 },
 "nbformat": 4,
 "nbformat_minor": 2
}
