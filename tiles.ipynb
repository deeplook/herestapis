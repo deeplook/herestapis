{
 "cells": [
  {
   "cell_type": "markdown",
   "metadata": {},
   "source": [
    "# Tiles\n",
    "\n",
    "These map tiles are regular \"mini\" maps on a grid with various zoom levels to be used stand-alone or to be combined into larger maps..."
   ]
  },
  {
   "cell_type": "markdown",
   "metadata": {},
   "source": [
    "## OSM\n",
    "\n",
    "- https://wiki.openstreetmap.org/wiki/Tile_servers"
   ]
  },
  {
   "cell_type": "code",
   "execution_count": null,
   "metadata": {},
   "outputs": [],
   "source": [
    "from IPython.display import Image\n",
    "from ipyleaflet import basemaps"
   ]
  },
  {
   "cell_type": "code",
   "execution_count": null,
   "metadata": {},
   "outputs": [],
   "source": [
    "basemaps.OpenStreetMap.Mapnik"
   ]
  },
  {
   "cell_type": "code",
   "execution_count": null,
   "metadata": {},
   "outputs": [],
   "source": [
    "url = basemaps.OpenStreetMap.Mapnik['url']\n",
    "params = dict(s='a', z=13, x=4400, y=2686)\n",
    "print(url)\n",
    "Image(url=url.format(**params))"
   ]
  },
  {
   "cell_type": "markdown",
   "metadata": {},
   "source": [
    "## HERE\n",
    "\n",
    "- https://developer.here.com/documentation/map-tile/topics/introduction.html"
   ]
  },
  {
   "cell_type": "code",
   "execution_count": null,
   "metadata": {},
   "outputs": [],
   "source": [
    "from IPython.display import Image\n",
    "\n",
    "from credentials import APP_ID, APP_CODE\n",
    "\n",
    "url = (f'https://1.base.maps.api.here.com/'\n",
    "       f'maptile/2.1/maptile/newest/normal.day/13/4400/2686/256/png8'\n",
    "       f'?lg=eng&app_id={APP_ID}&app_code={APP_CODE}')\n",
    "Image(url=url)"
   ]
  },
  {
   "cell_type": "code",
   "execution_count": null,
   "metadata": {},
   "outputs": [],
   "source": [
    "from ipywidgets import interact\n",
    "\n",
    "from credentials import APP_ID, APP_CODE\n",
    "from utils import deg2tile\n",
    "\n",
    "@interact(zoom=(0, 18))\n",
    "def get_here_maptile(zoom=13):\n",
    "    lat = 52.518611\n",
    "    lon = 13.408333\n",
    "    maptype = 'base' # 'aerial'\n",
    "    scheme = 'normal.day' # 'satellite.day'\n",
    "    x, y = deg2tile(lat, lon, zoom)\n",
    "    url = (f'https://1.{maptype}.maps.api.here.com/'\n",
    "           f'maptile/2.1/maptile/newest/{scheme}/{zoom}/{x}/{y}/256/png8'\n",
    "           f'?lg=eng&app_id={APP_ID}&app_code={APP_CODE}')\n",
    "    return Image(url=url)"
   ]
  },
  {
   "cell_type": "markdown",
   "metadata": {},
   "source": [
    "**Note:** HUGE configuration space!"
   ]
  }
 ],
 "metadata": {
  "kernelspec": {
   "display_name": "Python 3",
   "language": "python",
   "name": "python3"
  },
  "language_info": {
   "codemirror_mode": {
    "name": "ipython",
    "version": 3
   },
   "file_extension": ".py",
   "mimetype": "text/x-python",
   "name": "python",
   "nbconvert_exporter": "python",
   "pygments_lexer": "ipython3",
   "version": "3.6.3"
  }
 },
 "nbformat": 4,
 "nbformat_minor": 2
}
