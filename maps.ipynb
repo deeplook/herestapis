{
 "cells": [
  {
   "cell_type": "markdown",
   "metadata": {},
   "source": [
    "# Maps\n",
    "\n",
    "Interactive maps created from tiles. This is only indirectly about the tiles REST APIs, but reuses their configuration. \n",
    "\n",
    "https://developer.here.com/documentation/map-image/topics/what-is.html"
   ]
  },
  {
   "cell_type": "markdown",
   "metadata": {},
   "source": [
    "## Default"
   ]
  },
  {
   "cell_type": "code",
   "execution_count": null,
   "metadata": {},
   "outputs": [],
   "source": [
    "from ipyleaflet import Map"
   ]
  },
  {
   "cell_type": "code",
   "execution_count": null,
   "metadata": {
    "scrolled": false
   },
   "outputs": [],
   "source": [
    "Map(center=(52.5, 13.4), zoom=11)"
   ]
  },
  {
   "cell_type": "code",
   "execution_count": null,
   "metadata": {},
   "outputs": [],
   "source": [
    "_.basemap"
   ]
  },
  {
   "cell_type": "code",
   "execution_count": null,
   "metadata": {},
   "outputs": [],
   "source": [
    "from ipyleaflet import basemaps, basemap_to_tiles"
   ]
  },
  {
   "cell_type": "code",
   "execution_count": null,
   "metadata": {},
   "outputs": [],
   "source": [
    "basemaps.CartoDB.Positron"
   ]
  },
  {
   "cell_type": "code",
   "execution_count": null,
   "metadata": {},
   "outputs": [],
   "source": [
    "from ipywidgets import interact\n",
    "\n",
    "# some basemaps are limited to a few zoom levels...\n",
    "tiles = [name.strip() for name in \"\"\"\n",
    "    basemaps.Stamen.Toner\n",
    "    basemaps.Stamen.Terrain\n",
    "    basemaps.CartoDB.Positron\n",
    "    \"\"\".strip().split('\\n')]\n",
    "\n",
    "@interact(tiles=tiles, zoom=(1, 18))\n",
    "def create_map(tiles=tiles[0], zoom=10):\n",
    "    lat, lon = 52.518611, 13.408333\n",
    "    toner = basemap_to_tiles(eval(tiles))\n",
    "    return Map(center=(lat, lon), layers=[toner], zoom=zoom)"
   ]
  },
  {
   "cell_type": "markdown",
   "metadata": {},
   "source": [
    "## Mars\n",
    "\n",
    "https://github.com/openplanetary/opm/wiki/OPM-Basemaps"
   ]
  },
  {
   "cell_type": "code",
   "execution_count": null,
   "metadata": {},
   "outputs": [],
   "source": [
    "url = 'http://s3-eu-west-1.amazonaws.com/whereonmars.cartodb.net/celestia_mars-shaded-16k_global/{z}/{x}/{y}.png'\n",
    "bm = dict(url=url, attribution='Celestia/praesepe')\n",
    "Map(zoom=3, basemap=bm)"
   ]
  },
  {
   "cell_type": "markdown",
   "metadata": {},
   "source": [
    "## HERE\n",
    "\n",
    "- https://developer.here.com/documentation/map-tile/topics/introduction.html"
   ]
  },
  {
   "cell_type": "code",
   "execution_count": null,
   "metadata": {},
   "outputs": [],
   "source": [
    "from credentials import APP_ID, APP_CODE"
   ]
  },
  {
   "cell_type": "code",
   "execution_count": null,
   "metadata": {},
   "outputs": [],
   "source": [
    "attribution = '<a href=\"http://here.com\">HERE</a>'\n",
    "url_pat = (\"https://1.{maptype}.maps.api.here.com\"\n",
    "           \"/maptile/2.1/{tiletype}/newest/{scheme}/{{z}}/{{x}}/{{y}}/{tilesize}/{format}\"\n",
    "           f\"?app_id={APP_ID}&app_code={APP_CODE}\")"
   ]
  },
  {
   "cell_type": "code",
   "execution_count": null,
   "metadata": {
    "scrolled": true
   },
   "outputs": [],
   "source": [
    "params = dict(\n",
    "    maptype  = 'traffic',\n",
    "    tiletype = 'traffictile',\n",
    "    scheme   = 'normal.day',\n",
    "    tilesize = '256',\n",
    "    format   = 'png8',\n",
    "    app_id   = APP_ID,\n",
    "    app_code = APP_CODE\n",
    ")\n",
    "basemap = dict(url=url_pat.format(**params), attribution=attribution)\n",
    "Map(center=(52.5, 13.4), zoom=13, basemap=basemap)"
   ]
  },
  {
   "cell_type": "code",
   "execution_count": null,
   "metadata": {},
   "outputs": [],
   "source": [
    "params.update(dict(maptype='base', tiletype='trucktile'))\n",
    "basemap = dict(url=url_pat.format(**params), attribution=attribution)\n",
    "Map(center=(52.5, 13.4), zoom=13, basemap=basemap)"
   ]
  },
  {
   "cell_type": "markdown",
   "metadata": {},
   "source": [
    "## Note to Self: Solve This Rendering Challenge for Ipyrest!\n",
    "\n",
    "A \"MAP\" request method...??"
   ]
  },
  {
   "cell_type": "code",
   "execution_count": null,
   "metadata": {},
   "outputs": [],
   "source": [
    "from ipyrest import Api\n",
    "url = 'https://{s}.tile.openstreetmap.org/{{z}}/{{x}}/{{y}}.png'\n",
    "args = dict(s='a')\n",
    "Api(url, args=args)"
   ]
  }
 ],
 "metadata": {
  "kernelspec": {
   "display_name": "Python 3",
   "language": "python",
   "name": "python3"
  },
  "language_info": {
   "codemirror_mode": {
    "name": "ipython",
    "version": 3
   },
   "file_extension": ".py",
   "mimetype": "text/x-python",
   "name": "python",
   "nbconvert_exporter": "python",
   "pygments_lexer": "ipython3",
   "version": "3.6.3"
  }
 },
 "nbformat": 4,
 "nbformat_minor": 2
}
