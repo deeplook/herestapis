{
 "cells": [
  {
   "cell_type": "markdown",
   "metadata": {},
   "source": [
    "# Routing\n",
    "\n",
    "https://developer.here.com/documentation/routing/topics/what-is.html"
   ]
  },
  {
   "cell_type": "markdown",
   "metadata": {},
   "source": [
    "## Car route from A to B"
   ]
  },
  {
   "cell_type": "code",
   "execution_count": null,
   "metadata": {},
   "outputs": [],
   "source": [
    "from ipyrest import Api\n",
    "import utils\n",
    "from credentials import APP_CODE, APP_ID"
   ]
  },
  {
   "cell_type": "code",
   "execution_count": null,
   "metadata": {},
   "outputs": [],
   "source": [
    "start = utils.latlon_for_address('Invalidenstr. 116, 10115 Berlin, Germany')\n",
    "end = utils.latlon_for_address('Bismarkstr. 35, 10627 Berlin, Germany')"
   ]
  },
  {
   "cell_type": "code",
   "execution_count": null,
   "metadata": {},
   "outputs": [],
   "source": [
    "url = 'https://route.cit.api.here.com/routing/7.2/calculateroute.json'\n",
    "lat0, lon0 = start\n",
    "lat1, lon1 = end\n",
    "params = dict(\n",
    "    waypoint0=f'geo!{lat0},{lon0}',\n",
    "    waypoint1=f'geo!{lat1},{lon1}',\n",
    "    metricsystem='metric',\n",
    "    jsonattributes='41',\n",
    "    language='en',\n",
    "    routeattributes='sh,gr',\n",
    "    instructionFormat='text',\n",
    "    mode='fastest;car;traffic:disabled',\n",
    "    app_id=APP_ID,\n",
    "    app_code=APP_CODE\n",
    ")\n",
    "api = Api(url, params=params)\n",
    "api"
   ]
  },
  {
   "cell_type": "code",
   "execution_count": null,
   "metadata": {},
   "outputs": [],
   "source": [
    "route = utils.get_route_positions(start, end)\n",
    "route"
   ]
  },
  {
   "cell_type": "code",
   "execution_count": null,
   "metadata": {},
   "outputs": [],
   "source": [
    "from ipyleaflet import Map, Marker, basemap_to_tiles\n",
    "\n",
    "center = utils.mid_point(start, end)\n",
    "here_basemap = utils.build_here_basemap()\n",
    "layers = [basemap_to_tiles(here_basemap)]\n",
    "m = Map(center=center, layers=layers, zoom=13)\n",
    "m"
   ]
  },
  {
   "cell_type": "code",
   "execution_count": null,
   "metadata": {},
   "outputs": [],
   "source": [
    "start_marker = Marker(location=start)\n",
    "m += start_marker"
   ]
  },
  {
   "cell_type": "code",
   "execution_count": null,
   "metadata": {},
   "outputs": [],
   "source": [
    "end_marker = Marker(location=end)\n",
    "m += end_marker"
   ]
  },
  {
   "cell_type": "code",
   "execution_count": null,
   "metadata": {},
   "outputs": [],
   "source": [
    "m -= start_marker\n",
    "m -= end_marker"
   ]
  },
  {
   "cell_type": "code",
   "execution_count": null,
   "metadata": {},
   "outputs": [],
   "source": [
    "utils.add_route_to_map(route, m)"
   ]
  },
  {
   "cell_type": "markdown",
   "metadata": {},
   "source": [
    "## Time-based isoline with start as center"
   ]
  },
  {
   "cell_type": "code",
   "execution_count": null,
   "metadata": {},
   "outputs": [],
   "source": [
    "from ipyleaflet import Map, Marker\n",
    "import requests\n",
    "from ipyleaflet import Map"
   ]
  },
  {
   "cell_type": "code",
   "execution_count": null,
   "metadata": {},
   "outputs": [],
   "source": [
    "lat, lon = 52.5, 13.4\n",
    "url = (\n",
    "    'https://isoline.route.api.here.com/routing/7.2/calculateisoline.json'\n",
    "   f'?app_id={APP_ID}&app_code={APP_CODE}' \n",
    "   f'&start=geo!{lat},{lon}'\n",
    "    '&mode=fastest;car;traffic:disabled'\n",
    "    '&range=300,600'  # seconds/meters\n",
    "    '&rangetype=time' # time/distance\n",
    "    #'&departure=now' # 2018-07-04T17:00:00+02\n",
    "    #'&resolution=20' # meters\n",
    ")\n",
    "obj = requests.get(url).json()"
   ]
  },
  {
   "cell_type": "code",
   "execution_count": null,
   "metadata": {},
   "outputs": [],
   "source": [
    "obj"
   ]
  },
  {
   "cell_type": "code",
   "execution_count": null,
   "metadata": {},
   "outputs": [],
   "source": [
    "from ipyleaflet import Map, Polyline, basemap_to_tiles\n",
    "import utils\n",
    "\n",
    "here_basemap = utils.build_here_basemap()\n",
    "layers = [basemap_to_tiles(here_basemap)]\n",
    "m = Map(center=(lat, lon), layers=layers, zoom=12)\n",
    "m"
   ]
  },
  {
   "cell_type": "code",
   "execution_count": null,
   "metadata": {},
   "outputs": [],
   "source": [
    "m += Marker(location=(lat, lon))"
   ]
  },
  {
   "cell_type": "code",
   "execution_count": null,
   "metadata": {},
   "outputs": [],
   "source": [
    "for isoline in obj['response']['isoline']:\n",
    "    shape = isoline['component'][0]['shape']\n",
    "    path = [tuple(map(float, pos.split(','))) for pos in shape]\n",
    "    m += Polyline(locations=path, color='red', weight=2, fill=True)"
   ]
  },
  {
   "cell_type": "markdown",
   "metadata": {},
   "source": [
    "**Note:** Many more variants! Check https://developer.here.com/api-explorer/rest/routing."
   ]
  }
 ],
 "metadata": {
  "kernelspec": {
   "display_name": "Python 3",
   "language": "python",
   "name": "python3"
  },
  "language_info": {
   "codemirror_mode": {
    "name": "ipython",
    "version": 3
   },
   "file_extension": ".py",
   "mimetype": "text/x-python",
   "name": "python",
   "nbconvert_exporter": "python",
   "pygments_lexer": "ipython3",
   "version": "3.6.3"
  }
 },
 "nbformat": 4,
 "nbformat_minor": 2
}
